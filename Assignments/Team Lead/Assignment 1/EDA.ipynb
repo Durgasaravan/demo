{
 "cells": [
  {
   "cell_type": "code",
   "execution_count": null,
   "id": "785d2519",
   "metadata": {},
   "outputs": [],
   "source": [
    "import pandas as pd\n",
    "import matplotlib.pyplot as plt\n",
    "from sklearn.decomposition import PCA"
   ]
  },
  {
   "cell_type": "code",
   "execution_count": null,
   "id": "e1faefcd",
   "metadata": {},
   "outputs": [],
   "source": [
    "df = pd.read_csv('D:\\CN\\House Price India.csv')"
   ]
  },
  {
   "cell_type": "code",
   "execution_count": null,
   "id": "7d338093",
   "metadata": {},
   "outputs": [],
   "source": [
    "col = df['lot area']\n",
    "print('Mean:', col.mean())\n",
    "print('Median:', col.median())\n",
    "print('Mode:', col.mode())\n",
    "print('Standard Deviation:', col.std())\n",
    "plt.hist(col)\n",
    "plt.show()"
   ]
  },
  {
   "cell_type": "code",
   "execution_count": null,
   "id": "e396312e",
   "metadata": {},
   "outputs": [],
   "source": [
    "col1 = df['lot area']\n",
    "col2 = df['living area']\n",
    "print('Correlation coefficient:', col1.corr(col2))\n",
    "plt.scatter(col1, col2)\n",
    "plt.show()"
   ]
  },
  {
   "cell_type": "code",
   "execution_count": null,
   "id": "edc6935d",
   "metadata": {},
   "outputs": [],
   "source": [
    "X = df.drop(['lot area'], axis=1)\n",
    "pca = PCA(n_components=2)\n",
    "X_pca = pca.fit_transform(X)\n",
    "plt.scatter(X_pca[:, 0], X_pca[:, 1])\n",
    "plt.show()\n",
    "print(df.describe())"
   ]
  },
  {
   "cell_type": "code",
   "execution_count": null,
   "id": "aba9631e",
   "metadata": {},
   "outputs": [],
   "source": [
    "col = df['lot area']\n",
    "col.fillna(col.mean(), inplace=True)\n",
    "df.dropna(inplace=True)"
   ]
  }
 ],
 "metadata": {
  "kernelspec": {
   "display_name": "Python 3 (ipykernel)",
   "language": "python",
   "name": "python3"
  },
  "language_info": {
   "codemirror_mode": {
    "name": "ipython",
    "version": 3
   },
   "file_extension": ".py",
   "mimetype": "text/x-python",
   "name": "python",
   "nbconvert_exporter": "python",
   "pygments_lexer": "ipython3",
   "version": "3.11.3"
  }
 },
 "nbformat": 4,
 "nbformat_minor": 5
}
